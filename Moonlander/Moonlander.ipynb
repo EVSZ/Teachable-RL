{
 "cells": [
  {
   "cell_type": "markdown",
   "id": "4a51104a",
   "metadata": {},
   "source": [
    "# Deep Q-Network"
   ]
  },
  {
   "cell_type": "markdown",
   "id": "b1f72695",
   "metadata": {},
   "source": [
    "In the previous notebook we explored the openAI GYM environment. We trained a 'model' to play the game of Taxi. This was a simple task as the game only contains 500 states. It is pretty easy to map all states to the optimal action with the Q-learning algorithm.\n",
    "\n",
    "But what if the game contains many states? This is where Deep Learning comes into light!"
   ]
  },
  {
   "cell_type": "code",
   "execution_count": 2,
   "id": "f28704e4",
   "metadata": {},
   "outputs": [],
   "source": [
    "import gym\n",
    "import random\n",
    "import torch\n",
    "import torch.nn as nn\n",
    "import torch.nn.functional as F\n",
    "import torch.optim as optim\n",
    "import matplotlib.pyplot as plt\n",
    "import base64, io\n",
    "\n",
    "import numpy as np\n",
    "from collections import deque, namedtuple\n",
    "\n",
    "# For visualization\n",
    "from gym.wrappers.monitoring import video_recorder\n",
    "from IPython.display import HTML\n",
    "from IPython import display \n",
    "import glob"
   ]
  },
  {
   "cell_type": "markdown",
   "id": "dd335e79",
   "metadata": {},
   "source": [
    "## Instantiate Environment & Agent"
   ]
  },
  {
   "cell_type": "code",
   "execution_count": 60,
   "id": "47422f86",
   "metadata": {},
   "outputs": [
    {
     "name": "stdout",
     "output_type": "stream",
     "text": [
      "State shape (8,)\n",
      "Action shape 4\n"
     ]
    }
   ],
   "source": [
    "env = gym.make('LunarLander-v2', render_mode='rgb_array').env\n",
    "#env = gym.make('CarRacing-v2', render_mode='rgb_array').env\n",
    "env.reset()\n",
    "print(f'State shape {env.observation_space.shape}')\n",
    "print(f'Action shape {env.action_space.n}')"
   ]
  },
  {
   "cell_type": "markdown",
   "id": "1efc9e4c",
   "metadata": {},
   "source": [
    "## Define Neural Network Architecture"
   ]
  },
  {
   "cell_type": "markdown",
   "id": "dd1c8e04",
   "metadata": {},
   "source": [
    "Since the LunarLander is not a very complicated environment, there is no need for over the top architecture. A simple non-linear function approximator that maps from state to action is sufficient."
   ]
  },
  {
   "cell_type": "code",
   "execution_count": 62,
   "id": "540b3141",
   "metadata": {},
   "outputs": [],
   "source": [
    "class QNetwork(nn.Module):\n",
    "    \"\"\"Actor (policy) Model\"\"\"\n",
    "    \n",
    "    def __init__(self, state_size, action_size, seed):\n",
    "        \"\"\"Initialize parameters and build model.\n",
    "        \n",
    "        Params\n",
    "        ======\n",
    "            state_size (int): Dimension of each state\n",
    "            action_size (int): Dimension of each action\n",
    "            seed (int): Random seed\n",
    "        \"\"\"\n",
    "        super(QNetwork, self).__init__()\n",
    "        self.seed = torch.manual_seed(seed)\n",
    "        self.fc1 = nn.Linear(state_size, 64)\n",
    "        self.fc2 = nn.Linear(64,64)\n",
    "        self.fc3 = nn.Linear(64, action_size)\n",
    "        \n",
    "    def forward(self, state):\n",
    "        \"\"\"Build a network that maps state -> action values\"\"\"\n",
    "        x = self.fc1(state)\n",
    "        x = F.relu(x)\n",
    "        x = self.fc2(x)\n",
    "        x = F.relu(x)\n",
    "        return self.fc3(x)"
   ]
  },
  {
   "cell_type": "markdown",
   "id": "ddbb843e",
   "metadata": {},
   "source": [
    "### Hyper Parameters"
   ]
  },
  {
   "cell_type": "code",
   "execution_count": 63,
   "id": "0d2d1751",
   "metadata": {},
   "outputs": [],
   "source": [
    "BUFFER_SIZE = int(1e5)  # replay buffer size\n",
    "BATCH_SIZE = 64         # minibatch size\n",
    "GAMMA = 0.99            # discount factor\n",
    "TAU = 1e-3              # for soft update of target parameters\n",
    "LR = 5e-4               # learning rate \n",
    "UPDATE_EVERY = 4        # how often to update the network"
   ]
  },
  {
   "cell_type": "code",
   "execution_count": 64,
   "id": "252c0fa1",
   "metadata": {},
   "outputs": [],
   "source": [
    "device = \"cpu\"\n",
    "#torch.device(\"cuda:0\" if torch.cuda.is_available() else \"cpu\")"
   ]
  },
  {
   "cell_type": "markdown",
   "id": "ed09118a",
   "metadata": {},
   "source": [
    "## Define Agent"
   ]
  },
  {
   "cell_type": "code",
   "execution_count": 65,
   "id": "e47bb428",
   "metadata": {},
   "outputs": [],
   "source": [
    "class Agent():\n",
    "    \"\"\"Interacts with and learns from the environment\"\"\"\n",
    "    \n",
    "    def __init__(self, state_size, action_size, seed):\n",
    "        \"\"\"Initialize an Agent object\n",
    "        \n",
    "        Params\n",
    "        ======\n",
    "            state_size (int): dimension of each state\n",
    "            action_size (int): dimension of each action\n",
    "            seed (int): random seed\n",
    "        \"\"\"\n",
    "        self.state_size = state_size\n",
    "        self.action_size = action_size\n",
    "        self.seed = random.seed(seed)\n",
    "        \n",
    "        # Q-Network\n",
    "        self.qnetwork_local = QNetwork(state_size, action_size, seed).to(device)\n",
    "        self.qnetwork_target = QNetwork(state_size, action_size, seed).to(device)\n",
    "        self.optimizer = optim.Adam(self.qnetwork_local.parameters(), lr=LR)\n",
    "        \n",
    "        # Replay memory\n",
    "        self.memory = ReplayBuffer(action_size, BUFFER_SIZE, BATCH_SIZE, seed)\n",
    "        # Initialize time step (for updating every UPDATE_EVERY steps)\n",
    "        self.t_step = 0\n",
    "        \n",
    "    def step(self, state, action, reward, next_state, terminated, truncated):\n",
    "        # Save experience in replay memory\n",
    "        self.memory.add(state, action, reward, next_state, terminated, truncated)\n",
    "        \n",
    "        # Learn every UPDATE_EVERY time steps.\n",
    "        self.t_step = (self.t_step + 1) % UPDATE_EVERY\n",
    "        if self.t_step == 0:\n",
    "            # If enough samples are available in memory, get random subset and learn\n",
    "            if len(self.memory) > BATCH_SIZE:\n",
    "                experiences = self.memory.sample()\n",
    "                self.learn(experiences, GAMMA)\n",
    "\n",
    "    def act(self, state, eps=0.):\n",
    "        \"\"\"Returns actions for given state as per current policy.\n",
    "        \n",
    "        Params\n",
    "        ======\n",
    "            state (array_like): current state\n",
    "            eps (float): epsilon, for epsilon-greedy action selection\n",
    "        \"\"\"\n",
    "        state = torch.from_numpy(state).float().unsqueeze(0).to(device)\n",
    "        self.qnetwork_local.eval()\n",
    "        with torch.no_grad():\n",
    "            action_values = self.qnetwork_local(state)\n",
    "        self.qnetwork_local.train()\n",
    "\n",
    "        # Epsilon-greedy action selection\n",
    "        if random.random() > eps:\n",
    "            return np.argmax(action_values.cpu().data.numpy())\n",
    "        else:\n",
    "            return random.choice(np.arange(self.action_size))\n",
    "\n",
    "    def learn(self, experiences, gamma):\n",
    "        \"\"\"Update value parameters using given batch of experience tuples.\n",
    "\n",
    "        Params\n",
    "        ======\n",
    "            experiences (Tuple[torch.Variable]): tuple of (s, a, r, s', done) tuples \n",
    "            gamma (float): discount factor\n",
    "        \"\"\"\n",
    "        # Obtain random minibatch of tuples from D\n",
    "        states, actions, rewards, next_states, terminations, truncations = experiences\n",
    "\n",
    "        ## Compute and minimize the loss\n",
    "        ### Extract next maximum estimated value from target network\n",
    "        q_targets_next = self.qnetwork_target(next_states).detach().max(1)[0].unsqueeze(1)\n",
    "        ### Calculate target value from bellman equation\n",
    "        q_targets = rewards + gamma * q_targets_next * (1 - terminations)\n",
    "        ### Calculate expected value from local network\n",
    "        q_expected = self.qnetwork_local(states).gather(1, actions)\n",
    "        \n",
    "        ### Loss calculation (we used Mean squared error)\n",
    "        loss = F.mse_loss(q_expected, q_targets)\n",
    "        self.optimizer.zero_grad()\n",
    "        loss.backward()\n",
    "        self.optimizer.step()\n",
    "\n",
    "        # ------------------- update target network ------------------- #\n",
    "        self.soft_update(self.qnetwork_local, self.qnetwork_target, TAU)                     \n",
    "\n",
    "    def soft_update(self, local_model, target_model, tau):\n",
    "        \"\"\"Soft update model parameters.\n",
    "        θ_target = τ*θ_local + (1 - τ)*θ_target\n",
    "\n",
    "        Params\n",
    "        ======\n",
    "            local_model (PyTorch model): weights will be copied from\n",
    "            target_model (PyTorch model): weights will be copied to\n",
    "            tau (float): interpolation parameter \n",
    "        \"\"\"\n",
    "        for target_param, local_param in zip(target_model.parameters(), local_model.parameters()):\n",
    "            target_param.data.copy_(tau*local_param.data + (1.0-tau)*target_param.data)"
   ]
  },
  {
   "cell_type": "markdown",
   "id": "b0a6a4f0",
   "metadata": {},
   "source": [
    "## Define Replay Buffer"
   ]
  },
  {
   "cell_type": "code",
   "execution_count": 66,
   "id": "4deb152e",
   "metadata": {},
   "outputs": [],
   "source": [
    "class ReplayBuffer:\n",
    "    \"\"\"Fixed-size buffer to store experience tuples.\"\"\"\n",
    "\n",
    "    def __init__(self, action_size, buffer_size, batch_size, seed):\n",
    "        \"\"\"Initialize a ReplayBuffer object.\n",
    "\n",
    "        Params\n",
    "        ======\n",
    "            action_size (int): dimension of each action\n",
    "            buffer_size (int): maximum size of buffer\n",
    "            batch_size (int): size of each training batch\n",
    "            seed (int): random seed\n",
    "        \"\"\"\n",
    "        self.action_size = action_size\n",
    "        self.memory = deque(maxlen=buffer_size)  \n",
    "        self.batch_size = batch_size\n",
    "        self.experience = namedtuple(\"Experience\", field_names=[\"state\", \"action\", \"reward\", \"next_state\", \"terminated\", \"truncated\"])\n",
    "        self.seed = random.seed(seed)\n",
    "    \n",
    "    def add(self, state, action, reward, next_state, terminated, truncated):\n",
    "        \"\"\"Add a new experience to memory.\"\"\"\n",
    "        e = self.experience(state, action, reward, next_state, terminated, truncated)\n",
    "        self.memory.append(e)\n",
    "    \n",
    "    def sample(self):\n",
    "        \"\"\"Randomly sample a batch of experiences from memory.\"\"\"\n",
    "        experiences = random.sample(self.memory, k=self.batch_size)\n",
    "\n",
    "        states = torch.from_numpy(np.vstack([e.state for e in experiences if e is not None])).float().to(device)\n",
    "        actions = torch.from_numpy(np.vstack([e.action for e in experiences if e is not None])).long().to(device)\n",
    "        rewards = torch.from_numpy(np.vstack([e.reward for e in experiences if e is not None])).float().to(device)\n",
    "        next_states = torch.from_numpy(np.vstack([e.next_state for e in experiences if e is not None])).float().to(device)\n",
    "        terminations = torch.from_numpy(np.vstack([e.terminated for e in experiences if e is not None]).astype(np.uint8)).float().to(device)\n",
    "        truncations = torch.from_numpy(np.vstack([e.truncated for e in experiences if e is not None]).astype(np.uint8)).float().to(device)\n",
    "        \n",
    "        return (states, actions, rewards, next_states, terminations, truncations)\n",
    "\n",
    "    def __len__(self):\n",
    "        \"\"\"Return the current size of internal memory.\"\"\"\n",
    "        return len(self.memory)"
   ]
  },
  {
   "cell_type": "markdown",
   "id": "6a475a2d",
   "metadata": {},
   "source": [
    "## Training Process"
   ]
  },
  {
   "cell_type": "code",
   "execution_count": 67,
   "id": "0a61c48a",
   "metadata": {},
   "outputs": [
    {
     "name": "stdout",
     "output_type": "stream",
     "text": [
      "Episode 100\tAverage Score: -176.50\n",
      "Episode 200\tAverage Score: -150.57\n",
      "Episode 300\tAverage Score: -85.856\n",
      "Episode 400\tAverage Score: -4.733\n",
      "Episode 500\tAverage Score: 85.09\n",
      "Episode 600\tAverage Score: 153.90\n",
      "Episode 700\tAverage Score: 101.14\n",
      "Episode 800\tAverage Score: 189.21\n",
      "Episode 865\tAverage Score: 201.48\n",
      "Environment solved in 765 episodes!\tAverage Score: 201.48\n"
     ]
    }
   ],
   "source": [
    "def dqn(n_episodes=2000, max_t=1000, eps_start=1.0, eps_end=0.01, eps_decay=0.995):\n",
    "    \"\"\"Deep Q-Learning.\n",
    "    \n",
    "    Params\n",
    "    ======\n",
    "        n_episodes (int): maximum number of training episodes\n",
    "        max_t (int): maximum number of timesteps per episode\n",
    "        eps_start (float): starting value of epsilon, for epsilon-greedy action selection\n",
    "        eps_end (float): minimum value of epsilon\n",
    "        eps_decay (float): multiplicative factor (per episode) for decreasing epsilon\n",
    "    \"\"\"\n",
    "    scores = []                        # list containing scores from each episode\n",
    "    scores_window = deque(maxlen=100)  # last 100 scores\n",
    "    eps = eps_start                    # initialize epsilon\n",
    "    for i_episode in range(1, n_episodes+1):\n",
    "        state, state_info = env.reset()\n",
    "        score = 0\n",
    "        for t in range(max_t):\n",
    "            action = agent.act(state, eps)\n",
    "            next_state, reward, terminated, truncated, _ = env.step(action)\n",
    "            agent.step(state, action, reward, next_state, terminated, truncated)\n",
    "            state = next_state\n",
    "            score += reward\n",
    "            if terminated or truncated:\n",
    "                break \n",
    "        scores_window.append(score)       # save most recent score\n",
    "        scores.append(score)              # save most recent score\n",
    "        eps = max(eps_end, eps_decay*eps) # decrease epsilon\n",
    "        print('\\rEpisode {}\\tAverage Score: {:.2f}'.format(i_episode, np.mean(scores_window)), end=\"\")\n",
    "        if i_episode % 100 == 0:\n",
    "            print('\\rEpisode {}\\tAverage Score: {:.2f}'.format(i_episode, np.mean(scores_window)))\n",
    "        if np.mean(scores_window)>=200.0:\n",
    "            print('\\nEnvironment solved in {:d} episodes!\\tAverage Score: {:.2f}'.format(i_episode-100, np.mean(scores_window)))\n",
    "            torch.save(agent.qnetwork_local.state_dict(), 'checkpointCar.pth')\n",
    "            break\n",
    "    return scores\n",
    "\n",
    "agent = Agent(state_size=8, action_size=4, seed=0)\n",
    "scores = dqn()"
   ]
  },
  {
   "cell_type": "markdown",
   "id": "13e5817e",
   "metadata": {},
   "source": [
    "## Animate Agent Gaming"
   ]
  },
  {
   "cell_type": "code",
   "execution_count": 68,
   "id": "4a45df29",
   "metadata": {},
   "outputs": [],
   "source": [
    "def play_game(agent, env_name):\n",
    "    env = gym.make(env_name, render_mode='human').env\n",
    "  \n",
    "    #env = gym.wrappers.RecordVideo(env, 'video')\n",
    "\n",
    "    agent.qnetwork_local.load_state_dict(torch.load('checkpointCar.pth'))\n",
    "    \n",
    "    for i in range (1, 100):\n",
    "        state, state_info = env.reset()\n",
    "        terminated = False\n",
    "        truncated = False\n",
    "        while not terminated or truncated:\n",
    "\n",
    "            action = agent.act(state)\n",
    "\n",
    "            state, reward, terminated, truncated, _ = env.step(action)        "
   ]
  },
  {
   "cell_type": "code",
   "execution_count": 40,
   "id": "8ec28b4a",
   "metadata": {},
   "outputs": [],
   "source": [
    "agent = Agent(state_size=8, action_size=4, seed=0)\n",
    "#play_game(agent, 'LunarLander-v2')"
   ]
  },
  {
   "cell_type": "code",
   "execution_count": 69,
   "id": "db6f60f2",
   "metadata": {},
   "outputs": [],
   "source": [
    "def show_video(env_name):\n",
    "    mp4list = glob.glob('video/*.mp4')\n",
    "    if len(mp4list) > 0:\n",
    "        mp4 = 'video/{}.mp4'.format(env_name)\n",
    "        video = io.open(mp4, 'r+b').read()\n",
    "        encoded = base64.b64encode(video)\n",
    "        display.display(HTML(data='''<video alt=\"test\" autoplay \n",
    "                loop controls style=\"height: 400px;\">\n",
    "                <source src=\"data:video/mp4;base64,{0}\" type=\"video/mp4\" />\n",
    "             </video>'''.format(encoded.decode('ascii'))))\n",
    "    else:\n",
    "        print(\"Could not find video\")\n",
    "        \n",
    "def show_video_of_model(agent, env_name):\n",
    "    env = gym.make(env_name, render_mode='rgb_array').env\n",
    "  \n",
    "    env = gym.wrappers.RecordVideo(env, 'video')\n",
    "\n",
    "    agent.qnetwork_local.load_state_dict(torch.load('checkpointCar.pth'))\n",
    "    state, state_info = env.reset()\n",
    "    terminated = False\n",
    "    truncated = False\n",
    "    while not terminated or truncated:\n",
    "\n",
    "        action = agent.act(state)\n",
    "\n",
    "        state, reward, terminated, truncated, _ = env.step(action)        \n",
    "    env.close()"
   ]
  },
  {
   "cell_type": "code",
   "execution_count": 70,
   "id": "56fec51c",
   "metadata": {},
   "outputs": [
    {
     "name": "stderr",
     "output_type": "stream",
     "text": [
      "D:\\Anaconda\\lib\\site-packages\\gym\\wrappers\\record_video.py:75: UserWarning: \u001b[33mWARN: Overwriting existing videos at C:\\Users\\Matt\\Desktop\\BIGGYM\\video folder (try specifying a different `video_folder` for the `RecordVideo` wrapper if this is not desired)\u001b[0m\n",
      "  logger.warn(\n"
     ]
    },
    {
     "name": "stdout",
     "output_type": "stream",
     "text": [
      "Moviepy - Building video C:\\Users\\Matt\\Desktop\\BIGGYM\\video\\rl-video-episode-0.mp4.\n",
      "Moviepy - Writing video C:\\Users\\Matt\\Desktop\\BIGGYM\\video\\rl-video-episode-0.mp4\n",
      "\n"
     ]
    },
    {
     "name": "stderr",
     "output_type": "stream",
     "text": [
      "                                                                                                                       "
     ]
    },
    {
     "name": "stdout",
     "output_type": "stream",
     "text": [
      "Moviepy - Done !\n",
      "Moviepy - video ready C:\\Users\\Matt\\Desktop\\BIGGYM\\video\\rl-video-episode-0.mp4\n"
     ]
    },
    {
     "name": "stderr",
     "output_type": "stream",
     "text": [
      "\r"
     ]
    }
   ],
   "source": [
    "agent = Agent(state_size=8, action_size=4, seed=0)\n",
    "show_video_of_model(agent, 'LunarLander-v2')"
   ]
  },
  {
   "cell_type": "code",
   "execution_count": 71,
   "id": "63dd1bd4",
   "metadata": {
    "scrolled": false
   },
   "outputs": [
    {
     "data": {
      "text/html": [
       "<video alt=\"test\" autoplay \n",
       "                loop controls style=\"height: 400px;\">\n",
       "                <source src=\"data:video/mp4;base64,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\" type=\"video/mp4\" />\n",
       "             </video>"
      ],
      "text/plain": [
       "<IPython.core.display.HTML object>"
      ]
     },
     "metadata": {},
     "output_type": "display_data"
    }
   ],
   "source": [
    "show_video('rl-video-episode-0')"
   ]
  },
  {
   "cell_type": "markdown",
   "id": "1b11e5b8",
   "metadata": {},
   "source": [
    "## Conclusion\n",
    "\n",
    "The Deep-Q network was able to solve a problem with a larger observation and action space. The episode duration took a longer than time than with the taxi environment. But the score kept improving greatly upon each iteration. This method seems to work great and will be explored further within the data driven challenge of teachable reinforcement learning"
   ]
  }
 ],
 "metadata": {
  "kernelspec": {
   "display_name": "Python 3 (ipykernel)",
   "language": "python",
   "name": "python3"
  },
  "language_info": {
   "codemirror_mode": {
    "name": "ipython",
    "version": 3
   },
   "file_extension": ".py",
   "mimetype": "text/x-python",
   "name": "python",
   "nbconvert_exporter": "python",
   "pygments_lexer": "ipython3",
   "version": "3.9.12"
  }
 },
 "nbformat": 4,
 "nbformat_minor": 5
}
